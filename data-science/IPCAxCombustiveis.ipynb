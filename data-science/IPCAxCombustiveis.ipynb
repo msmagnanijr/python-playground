{
  "nbformat": 4,
  "nbformat_minor": 0,
  "metadata": {
    "colab": {
      "name": "IPCAxCombustiveis.ipynb",
      "provenance": [],
      "collapsed_sections": []
    },
    "kernelspec": {
      "name": "python3",
      "display_name": "Python 3"
    },
    "language_info": {
      "name": "python"
    }
  },
  "cells": [
    {
      "cell_type": "markdown",
      "metadata": {
        "id": "Kmqj2O3h7HAp"
      },
      "source": [
        "\n",
        "# IPCA x Combustíveis: Uma visão a partir da Ciência de Dados\n",
        "\n",
        "**Disclaimer**: *Essa é apenas uma visão de um estudante de ciência de dados. Caso veja algo que não faça sentido por favor me avise que irei corrigir assim que possível.*\n",
        "\n",
        "Tendo em vista a alta no valor dos combustíveis e a disparada do indice IPCA, veremos a seguir a relação entre esses dois fatores e como isso impactou a vida dos brasileiros.\n",
        "\n",
        "Índice Nacional de Preços ao Consumidor Amplo – IPCA que tem por objetivo medir a inflação de um conjunto de produtos e serviços comercializados no varejo, referentes ao consumo pessoal das famílias.\n",
        "\n",
        "Fonte: https://www.ibge.gov.br/estatisticas/economicas/precos-e-custos/9256-indice-nacional-de-precos-ao-consumidor-amplo.html\n",
        "\n",
        "Os jornalistas e economistas sempre dizem que o valor dos Combustíveis causa impacto no IPCA. Mas será se isso é realmente verdade? Vamos analisar os dados :)\n",
        "\n",
        "** Dataframes utilizados **\n",
        "\n",
        "Infelizmente somente os dois últimos meses da série histórica da gasolina/etanol está disponível no portal de dados https://dados.gov.br. \n",
        "\n",
        "IPCA:  https://dados.gov.br/dataset/4449-indice-nacional-de-precos-ao-consumidor-amplo-ipca-precos-monitorados-total\n",
        "\n",
        "Preços de combustíveis: https://dados.gov.br/dataset/serie-historica-de-precos-de-combustiveis-por-revenda\n",
        "\n"
      ]
    },
    {
      "cell_type": "code",
      "metadata": {
        "id": "5tsbjQTy7W2K",
        "outputId": "35feb27e-9382-43d4-9660-a3646fb088f5",
        "colab": {
          "base_uri": "https://localhost:8080/"
        }
      },
      "source": [
        "import pandas as pandas\n",
        "\n",
        "url_dados_ipca = 'http://api.bcb.gov.br/dados/serie/bcdata.sgs.4449/dados?formato=csv'\n",
        "ipca_dados = pandas.read_csv(url_dados_ipca, delimiter=';')\n",
        "\n",
        "url_dados_combustiveis_marco_2021 = 'https://www.gov.br/anp/pt-br/centrais-de-conteudo/dados-abertos/arquivos/shpc/dsan/2021/2021-03-gasolina-etanol.csv'\n",
        "combustiveis_dados_marco_2021 = pandas.read_csv(url_dados_combustiveis_marco_2021, delimiter=';', error_bad_lines=False, warn_bad_lines=True)\n",
        "\n",
        "url_dados_combustiveis_abril_2021 = 'https://www.gov.br/anp/pt-br/centrais-de-conteudo/dados-abertos/arquivos/shpc/dsan/2021/2021-04-gasolina-etanol.csv'\n",
        "dados_combustiveis_abril_2021 = pandas.read_csv(url_dados_combustiveis_abril_2021, delimiter=';', error_bad_lines=False, warn_bad_lines=True)\n"
      ],
      "execution_count": null,
      "outputs": [
        {
          "output_type": "stream",
          "name": "stderr",
          "text": [
            "/usr/local/lib/python3.7/dist-packages/IPython/core/interactiveshell.py:2882: FutureWarning: The error_bad_lines argument has been deprecated and will be removed in a future version.\n",
            "\n",
            "\n",
            "  exec(code_obj, self.user_global_ns, self.user_ns)\n",
            "/usr/local/lib/python3.7/dist-packages/IPython/core/interactiveshell.py:2882: FutureWarning: The warn_bad_lines argument has been deprecated and will be removed in a future version.\n",
            "\n",
            "\n",
            "  exec(code_obj, self.user_global_ns, self.user_ns)\n"
          ]
        }
      ]
    },
    {
      "cell_type": "code",
      "metadata": {
        "id": "gJSi7d2w1FZY"
      },
      "source": [
        "from dateutil.relativedelta import relativedelta\n",
        "from datetime import datetime\n",
        "import seaborn as sns\n",
        "import matplotlib.pyplot as plt\n",
        "\n",
        "\n",
        "### IPCA ###\n",
        "um_ano_atras = datetime.today() + relativedelta(months=-12)\n",
        "hoje = datetime.today()\n",
        "date_format = '%d/%m/%Y'\n",
        "datas = []\n",
        "\n",
        "for data in ipca_dados['data']:\n",
        "    if ((datetime.strptime(hoje.strftime('%d/%m/%Y'), date_format) - datetime.strptime(data, date_format)).days < 500):\n",
        "        datas.append(data)\n",
        "\n",
        "ipca_dados['valor'] = (ipca_dados['valor'].replace(',','.', regex=True).astype(float))\n",
        "sns.set()\n",
        "plt.figure(figsize=(25,10))\n",
        "ax = sns.barplot(x='data', y='valor', data=ipca_dados.query('data in @datas'), order=datas)\n",
        "ax.set_xlabel('',fontsize=20);\n",
        "ax.set_ylabel('Valor em %',fontsize=20);\n",
        "ax.set_title('Variação do IPCA nos últimos 500 dias', fontsize=20)\n",
        "plt.show()\n",
        "\n",
        "print('\\n')\n",
        "\n",
        "#### Combustiveis ####\n",
        "\n",
        "## TODO ordenar os dados\n",
        "\n",
        "sigla = 'SAO PAULO'\n",
        "tipo_produto = 'GASOLINA'\n",
        "\n",
        "combustiveis_dados_marco_2021['Valor de Venda'] = (combustiveis_dados_marco_2021['Valor de Venda'].replace(',','.', regex=True).astype(float))\n",
        "sns.set()\n",
        "plt.figure(figsize=(20,8))\n",
        "ax = sns.barplot(x='Valor de Venda', y='Data da Coleta', data=combustiveis_dados_marco_2021.query('`Município` == @sigla and `Produto` == @tipo_produto'))\n",
        "ax.set_xlabel('Valor em R$ por litro',fontsize=20);\n",
        "ax.set_ylabel('Data da Coleta',fontsize=20);\n",
        "ax.set_title('Variação do Preço da Gasolina para o Mês de Março de 2021 no Munícipio de São Paulo', fontsize=20)\n",
        "plt.show()\n",
        "\n",
        "print('\\n')\n",
        "\n",
        "dados_combustiveis_abril_2021['Valor de Venda'] = (dados_combustiveis_abril_2021['Valor de Venda'].replace(',','.', regex=True).astype(float))\n",
        "sns.set()\n",
        "plt.figure(figsize=(20,8))\n",
        "ax = sns.barplot(x='Valor de Venda', y='Data da Coleta', data=dados_combustiveis_abril_2021.query('`Município` == @sigla and `Produto` == @tipo_produto'))\n",
        "ax.set_xlabel('Valor em R$ por litro',fontsize=20);\n",
        "ax.set_ylabel('Data da Coleta',fontsize=20);\n",
        "ax.set_title('Variação do Preço da Gasolina para o Mês de Abril de 2021 no Munícipio de São Paulo', fontsize=20)\n",
        "plt.show()\n",
        "\n",
        "\n",
        "sigla = 'RIO DE JANEIRO'\n",
        "tipo_produto = 'GASOLINA'\n",
        "\n",
        "combustiveis_dados_marco_2021['Valor de Venda'] = (combustiveis_dados_marco_2021['Valor de Venda'].replace(',','.', regex=True).astype(float))\n",
        "sns.set()\n",
        "plt.figure(figsize=(20,8))\n",
        "ax = sns.barplot(x='Valor de Venda', y='Data da Coleta', data=combustiveis_dados_marco_2021.query('`Município` == @sigla and `Produto` == @tipo_produto'))\n",
        "ax.set_xlabel('Valor em R$ por litro',fontsize=20);\n",
        "ax.set_ylabel('Data da Coleta',fontsize=20);\n",
        "ax.set_title('Variação do Preço da Gasolina para o Mês de Março de 2021 no Munícipio de Rio de Janeiro', fontsize=20)\n",
        "plt.show()\n",
        "\n",
        "print('\\n')"
      ],
      "execution_count": null,
      "outputs": []
    },
    {
      "cell_type": "markdown",
      "metadata": {
        "id": "ZTlRlj6YvkAs"
      },
      "source": [
        "Observando apenas os dois meses que encontrei, parece existir uma relação entre o valor da Gasolina/Etanol e o IPCA."
      ]
    }
  ]
}